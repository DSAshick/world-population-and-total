{
 "cells": [
  {
   "cell_type": "code",
   "execution_count": null,
   "id": "8939c750",
   "metadata": {},
   "outputs": [],
   "source": [
    "import pandas as pd\n",
    "import matplotlib.pyplot as plt\n",
    "\n",
    "# Step 1: Load the dataset from a CSV file\n",
    "url = 'https://api.worldbank.org/v2/en/indicator/SP.POP.TOTL?downloadformat=csv'\n",
    "df = pd.read_csv(url, skiprows=4)\n",
    "\n",
    "# Step 2: Preview the dataset\n",
    "print(df.head())\n",
    "\n",
    "# Step 3: Select relevant data\n",
    "# Let's assume we want to visualize the population of a few selected countries in a recent year\n",
    "selected_countries = ['India', 'China', 'United States', 'Brazil', 'Germany']\n",
    "year = '2022'  # Replace with the latest year available in the dataset\n",
    "\n",
    "# Filter the data for the selected countries and the chosen year\n",
    "filtered_data = df[df['Country Name'].isin(selected_countries)][['Country Name', year]]\n",
    "\n",
    "# Step 4: Plot a bar chart to visualize the population distribution\n",
    "plt.figure(figsize=(10, 6))\n",
    "plt.bar(filtered_data['Country Name'], filtered_data[year], color='skyblue', edgecolor='black')\n",
    "plt.title(f'Population Distribution in {year}')\n",
    "plt.xlabel('Country')\n",
    "plt.ylabel('Population')\n",
    "plt.xticks(rotation=45)\n",
    "plt.grid(axis='y', linestyle='--', alpha=0.7)\n",
    "plt.show()\n"
   ]
  },
  {
   "cell_type": "code",
   "execution_count": 1,
   "id": "fd4cdb1c",
   "metadata": {},
   "outputs": [
    {
     "ename": "SyntaxError",
     "evalue": "invalid syntax (<ipython-input-1-f3d71aa7bcac>, line 1)",
     "output_type": "error",
     "traceback": [
      "\u001b[1;36m  File \u001b[1;32m\"<ipython-input-1-f3d71aa7bcac>\"\u001b[1;36m, line \u001b[1;32m1\u001b[0m\n\u001b[1;33m    https://github.com/DSAshick/world-population-and-total.git\u001b[0m\n\u001b[1;37m          ^\u001b[0m\n\u001b[1;31mSyntaxError\u001b[0m\u001b[1;31m:\u001b[0m invalid syntax\n"
     ]
    }
   ],
   "source": [
    "https://github.com/DSAshick/world-population-and-total.git"
   ]
  },
  {
   "cell_type": "code",
   "execution_count": null,
   "id": "0973e286",
   "metadata": {},
   "outputs": [],
   "source": []
  }
 ],
 "metadata": {
  "kernelspec": {
   "display_name": "Python 3",
   "language": "python",
   "name": "python3"
  },
  "language_info": {
   "codemirror_mode": {
    "name": "ipython",
    "version": 3
   },
   "file_extension": ".py",
   "mimetype": "text/x-python",
   "name": "python",
   "nbconvert_exporter": "python",
   "pygments_lexer": "ipython3",
   "version": "3.8.8"
  }
 },
 "nbformat": 4,
 "nbformat_minor": 5
}
